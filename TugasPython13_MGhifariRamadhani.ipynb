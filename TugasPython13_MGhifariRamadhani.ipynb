{
  "nbformat": 4,
  "nbformat_minor": 0,
  "metadata": {
    "colab": {
      "name": "Untitled3.ipynb",
      "provenance": [],
      "authorship_tag": "ABX9TyNb2J4oZiR9d3iSykM/1YhL",
      "include_colab_link": true
    },
    "kernelspec": {
      "name": "python3",
      "display_name": "Python 3"
    }
  },
  "cells": [
    {
      "cell_type": "markdown",
      "metadata": {
        "id": "view-in-github",
        "colab_type": "text"
      },
      "source": [
        "<a href=\"https://colab.research.google.com/github/mghifarirr/TugasPitonG6/blob/main/TugasPython13_MGhifariRamadhani.ipynb\" target=\"_parent\"><img src=\"https://colab.research.google.com/assets/colab-badge.svg\" alt=\"Open In Colab\"/></a>"
      ]
    },
    {
      "cell_type": "code",
      "metadata": {
        "id": "Y_NlY5-WjkaY"
      },
      "source": [
        "import numpy as np\r\n",
        "import matplotlib.pyplot as plt"
      ],
      "execution_count": null,
      "outputs": []
    },
    {
      "cell_type": "code",
      "metadata": {
        "id": "j-MsZqvnj9hR"
      },
      "source": [
        "def cos(frek,tipe,ht,hr,d):\r\n",
        "  #frek = frekuensi (MHz)\r\n",
        "  #tipe = urban, suburban, open\r\n",
        "  #ht = tinggi tower (meter)\r\n",
        "  #hr = tinggi user (meter)\r\n",
        "  #d = jarak (meter)\r\n",
        "    if frek in range(150,1501):\r\n",
        "        Ca=69.55\r\n",
        "        Cb=26.16\r\n",
        "    elif frek in range(1501,2001):\r\n",
        "        Ca=46.3\r\n",
        "        Cb=33.9\r\n",
        "    \r\n",
        "    if tipe=='urban' :\r\n",
        "        Cm=0\r\n",
        "    elif tipe=='suburban' :\r\n",
        "        Cm= -2*((np.log10((frek/28)**2))-5.4)\r\n",
        "    elif tipe=='open' :\r\n",
        "        Cm= -4.78*(np.log10(frek))+18.33*(np.log10(frek))-40.94\r\n",
        "    else :\r\n",
        "        Cm='tipe salah'\r\n",
        "    \r\n",
        "    ahr = (1.1*np.log10(frek)-0.7)*hr-(1.56*np.log10(frek)-1.8)\r\n",
        "    Lp = Ca+(Cb*np.log10(frek))-(13.83*np.log(ht))-ahr+((44.9-6.55*np.log10(ht))*np.log10(d))-Cm\r\n",
        "    \r\n",
        "    return Lp"
      ],
      "execution_count": null,
      "outputs": []
    },
    {
      "cell_type": "code",
      "metadata": {
        "id": "vbrCvGMKkASG"
      },
      "source": [
        "f=1800 #MHz\r\n",
        "loc='urban'\r\n",
        "tower=80 #m\r\n",
        "user=1.5 #m\r\n",
        "dmin=200 #m\r\n",
        "dmax=700 #m\r\n",
        "N=200 #titik\r\n",
        "d=np.random.randint(dmin,dmax,N)"
      ],
      "execution_count": null,
      "outputs": []
    },
    {
      "cell_type": "code",
      "metadata": {
        "colab": {
          "base_uri": "https://localhost:8080/"
        },
        "id": "CqG2zqY4kDCH",
        "outputId": "8524110c-560c-461f-dd31-6386773bc62b"
      },
      "source": [
        "print(d)"
      ],
      "execution_count": null,
      "outputs": [
        {
          "output_type": "stream",
          "text": [
            "[402 644 549 340 623 619 690 557 577 537 636 594 650 290 429 668 288 426\n",
            " 313 606 615 261 221 382 350 228 594 242 211 346 659 481 409 345 529 613\n",
            " 218 524 438 579 575 380 639 379 449 564 328 243 473 502 673 423 333 683\n",
            " 582 411 610 260 495 278 329 651 224 642 541 245 212 304 299 366 252 256\n",
            " 281 355 672 344 422 453 227 661 522 212 642 639 227 402 294 366 628 505\n",
            " 531 648 679 249 414 480 685 271 234 383 326 699 274 633 657 456 600 360\n",
            " 496 602 308 200 339 484 663 648 683 665 256 359 230 304 240 363 325 384\n",
            " 447 659 684 351 444 697 442 381 586 287 257 553 521 575 420 340 520 589\n",
            " 408 517 234 565 333 427 536 277 480 252 684 323 553 653 552 337 365 502\n",
            " 238 275 366 513 527 516 471 502 269 590 666 636 691 460 543 432 367 591\n",
            " 405 287 605 504 655 407 593 636 375 241 652 293 638 238 452 209 595 494\n",
            " 526 568]\n"
          ],
          "name": "stdout"
        }
      ]
    },
    {
      "cell_type": "code",
      "metadata": {
        "id": "h6gBJjYYkFxX"
      },
      "source": [
        "LpUrban=cos(f,loc,tower,user,d)"
      ],
      "execution_count": null,
      "outputs": []
    },
    {
      "cell_type": "code",
      "metadata": {
        "colab": {
          "base_uri": "https://localhost:8080/"
        },
        "id": "WFymny4ukIhu",
        "outputId": "b8e3c459-08ba-4424-833d-4688aaa37767"
      },
      "source": [
        "print(LpUrban)"
      ],
      "execution_count": null,
      "outputs": [
        {
          "output_type": "stream",
          "text": [
            "[179.47478358 186.11287566 183.86470814 177.11524764 185.64588579\n",
            " 185.55515287 187.08472564 184.0684909  184.56541147 183.5533974\n",
            " 185.9367954  184.9744343  186.24350631 174.87462457 180.39045706\n",
            " 186.62828331 174.77714157 180.29160587 175.94971816 185.25616844\n",
            " 185.46383172 173.39049132 171.04713715 178.75594203 177.52357297\n",
            " 171.48638728 184.9744343  172.32581571 170.39488001 177.36166041\n",
            " 186.43720858 182.00206845 179.71795525 177.3208898  183.34196773\n",
            " 185.41794817 170.85461155 183.20819429 180.68291541 184.61415283\n",
            " 184.51650088 178.68199836 186.0030837  178.64488045 181.03231012\n",
            " 184.24441408 176.60910082 172.38390337 181.76581574 182.60401352\n",
            " 186.73332658 180.19205607 176.82220984 186.94109196 184.68695008\n",
            " 179.78666874 185.34884139 173.3364174  182.40620954 174.27934286\n",
            " 176.65198134 186.26516079 171.23706683 186.06906151 183.65793397\n",
            " 172.49936498 170.46148173 175.53874529 175.30513732 178.15323031\n",
            " 172.89618665 173.11802175 174.43053827 177.72338111 186.7123805\n",
            " 177.28000084 180.15871585 181.15724431 171.42446965 186.47989418\n",
            " 183.15432715 170.46148173 186.06906151 186.0030837  171.42446965\n",
            " 179.47478358 175.06758974 178.15323031 185.75848621 182.68794368\n",
            " 183.3951234  186.20009722 186.85835318 172.72748718 179.88911456\n",
            " 181.97275265 186.98227982 173.9201115  171.85228415 178.79276882\n",
            " 176.5229462  187.26727123 174.07519091 185.87019368 186.39439323\n",
            " 181.25022312 185.11600572 177.92039464 182.43463788 185.16288176\n",
            " 175.72288173 169.64069205 177.07375648 182.08965155 186.52245082\n",
            " 186.20009722 186.94109196 186.56487928 173.11802175 177.88121175\n",
            " 171.60941197 175.53874529 172.20891681 178.03729354 176.47967047\n",
            " 178.82949958 180.96942503 186.43720858 186.96170094 177.56376198\n",
            " 180.87456785 187.22690949 180.81097299 178.71901871 184.78343154\n",
            " 174.72814591 173.17293892 183.96696802 183.12731614 184.51650088\n",
            " 180.09179773 177.11524764 183.10025324 184.85536142 179.6834724\n",
            " 183.01875116 171.85228415 184.26936756 176.82220984 180.3246334\n",
            " 183.52714159 174.22858158 181.97275265 172.89618665 186.96170094\n",
            " 176.39271811 183.96696802 186.30837014 183.94147257 176.99040572\n",
            " 178.11469065 182.60401352 172.09103965 174.12650695 178.15323031\n",
            " 182.90934294 183.2886107  182.99147866 181.7061282  182.60401352\n",
            " 173.81576852 184.87925665 186.58604568 185.9367954  187.10512569\n",
            " 181.37324781 183.70991276 180.48861939 178.19166482 184.90311142\n",
            " 179.57951445 174.72814591 185.23290462 182.66002249 186.35144736\n",
            " 179.64890493 184.95070011 185.9367954  178.49542295 172.26748753\n",
            " 186.28678204 175.0195957  185.98102224 172.09103965 181.12611449\n",
            " 170.26072435 184.99812856 182.37772371 183.26185621 184.34396388]\n"
          ],
          "name": "stdout"
        }
      ]
    },
    {
      "cell_type": "code",
      "metadata": {
        "id": "j3arXiPPkL8X"
      },
      "source": [
        "d_sort=d[np.argsort(d)]\r\n",
        "Urban_sort=LpUrban[np.argsort(d)]"
      ],
      "execution_count": null,
      "outputs": []
    },
    {
      "cell_type": "code",
      "metadata": {
        "id": "vAoniVz7kOP0"
      },
      "source": [
        "f=1800 #MHz\r\n",
        "loc='suburban'\r\n",
        "tower=80 #m\r\n",
        "user=1.5 #m\r\n",
        "dmin=200 #m\r\n",
        "dmax=700 #m\r\n",
        "N=200 #titik\r\n",
        "a=np.random.randint(dmin,dmax,N)"
      ],
      "execution_count": null,
      "outputs": []
    },
    {
      "cell_type": "code",
      "metadata": {
        "colab": {
          "base_uri": "https://localhost:8080/"
        },
        "id": "zfquf2xOkQrb",
        "outputId": "a3466fa2-2f16-423f-af75-1c1da9948d68"
      },
      "source": [
        "print(a)"
      ],
      "execution_count": null,
      "outputs": [
        {
          "output_type": "stream",
          "text": [
            "[429 672 616 499 265 389 699 657 229 415 405 438 507 579 443 405 469 274\n",
            " 459 458 517 259 506 220 524 495 474 617 607 660 494 436 627 348 376 529\n",
            " 413 599 271 544 207 530 452 469 624 444 366 422 567 541 307 623 425 533\n",
            " 258 402 231 225 429 511 406 496 665 594 566 522 361 237 265 616 370 277\n",
            " 605 297 377 629 644 355 225 690 697 401 368 282 651 601 420 638 357 494\n",
            " 291 627 265 543 602 570 602 265 349 640 306 229 497 474 549 622 318 279\n",
            " 676 357 220 346 310 494 573 526 609 255 343 267 409 687 263 281 495 505\n",
            " 283 510 607 655 522 470 340 251 244 419 506 602 340 547 657 294 436 244\n",
            " 384 210 638 302 271 202 644 320 213 442 437 659 335 521 471 486 373 410\n",
            " 225 482 481 264 528 604 380 450 324 325 523 679 652 443 505 547 520 332\n",
            " 406 648 547 663 613 599 602 390 439 477 447 234 289 326 380 661 409 558\n",
            " 604 470]\n"
          ],
          "name": "stdout"
        }
      ]
    },
    {
      "cell_type": "code",
      "metadata": {
        "id": "21t5U7BJkTM-"
      },
      "source": [
        "Lpsuburban=cos(f,loc,tower,user,a)"
      ],
      "execution_count": null,
      "outputs": []
    },
    {
      "cell_type": "code",
      "metadata": {
        "colab": {
          "base_uri": "https://localhost:8080/"
        },
        "id": "35N0OIYokVpD",
        "outputId": "73a91b49-c49b-4f84-d9b5-ee2493cf4270"
      },
      "source": [
        "print(Lpsuburban)"
      ],
      "execution_count": null,
      "outputs": [
        {
          "output_type": "stream",
          "text": [
            "[176.82291496 183.14483839 181.91917547 178.95203817 170.0371927\n",
            " 175.44418818 183.69972912 182.82685113 167.98049183 176.35555615\n",
            " 176.01197235 177.1153733  179.17607848 181.04661072 177.27526421\n",
            " 176.01197235 178.07864457 170.50764881 177.77505011 177.74432766\n",
            " 179.45120905 169.714593   179.14826754 167.41571178 179.64065218\n",
            " 178.83866743 178.22802283 181.94202419 181.71185179 182.89102544\n",
            " 178.81018161 177.05090528 182.16849591 173.87530722 174.96539415\n",
            " 179.77442562 176.28750656 181.52496696 170.3525694  180.1682883\n",
            " 166.55773661 179.80102853 177.55857239 178.07864457 182.10093589\n",
            " 177.30702575 174.5856882  176.59117374 180.7516002  180.09039186\n",
            " 172.10953069 182.07834369 176.69095861 179.88053714 169.66010072\n",
            " 175.90724148 168.10298162 167.73226976 176.82291496 179.28677639\n",
            " 176.04671031 178.86709577 182.99733718 181.40689219 180.72673482\n",
            " 179.58678505 174.39192672 168.46418699 170.0371927  181.91917547\n",
            " 174.73880099 170.66103948 181.66536252 171.64305635 175.00280781\n",
            " 182.21335658 182.54533355 174.155839   167.73226976 183.51718353\n",
            " 183.65936738 175.87215743 174.66245263 170.91303614 182.69761869\n",
            " 181.57192113 176.52425562 182.41348013 174.23497538 178.81018161\n",
            " 171.35557214 182.16849591 170.0371927  180.14237066 181.59533965\n",
            " 180.82593408 181.59533965 170.0371927  173.91572687 182.45756855\n",
            " 172.06357228 167.98049183 178.89546686 178.22802283 180.29716603\n",
            " 182.05571519 172.60541745 170.76237975 183.22843649 174.23497538\n",
            " 167.41571178 173.79411831 172.24651301 178.81018161 180.89987776\n",
            " 179.6943141  181.75818814 169.49534753 173.67145073 170.14310475\n",
            " 176.15041315 183.45580549 169.93047826 170.86299616 178.83866743\n",
            " 179.12040158 170.96289898 179.25918336 181.71185179 182.78390525\n",
            " 179.58678505 178.10864722 173.54770554 169.27263557 168.87421038\n",
            " 176.49067697 179.14826754 181.59533965 173.54770554 180.24575635\n",
            " 182.82685113 171.50004764 177.05090528 168.87421038 175.26195747\n",
            " 166.76041979 182.41348013 171.87822438 170.3525694  166.21331267\n",
            " 182.54533355 172.69373271 166.96022792 177.24343089 177.08317617\n",
            " 182.86966647 173.33901672 179.55977404 178.1385861  178.58019711\n",
            " 174.85255319 176.18481179 167.73226976 178.46378126 178.43452634\n",
            " 169.98393654 179.74777237 181.64206022 175.11445625 177.4961056\n",
            " 172.86871928 172.91212837 179.61374436 183.29081107 182.71923993\n",
            " 177.27526421 179.12040158 180.24575635 179.53271113 173.21230308\n",
            " 176.04671031 182.63255512 180.24575635 182.95490872 181.85040607\n",
            " 181.52496696 181.59533965 175.48035312 177.147497   178.31689528\n",
            " 177.40188292 168.28474204 171.25842529 172.95540409 175.11445625\n",
            " 182.91235208 176.15041315 180.52621559 181.64206022 178.10864722]\n"
          ],
          "name": "stdout"
        }
      ]
    },
    {
      "cell_type": "code",
      "metadata": {
        "id": "tJzu7c_SkYtb"
      },
      "source": [
        "a_sort=a[np.argsort(a)]\r\n",
        "suburban_sort=Lpsuburban[np.argsort(a)]"
      ],
      "execution_count": null,
      "outputs": []
    },
    {
      "cell_type": "code",
      "metadata": {
        "id": "xKKUSEBqkaxz"
      },
      "source": [
        "f=1800 #MHz\r\n",
        "loc='open'\r\n",
        "tower=80 #m\r\n",
        "user=1.5 #m\r\n",
        "dmin=200 #m\r\n",
        "dmax=700 #m\r\n",
        "N=200 #titik\r\n",
        "b=np.random.randint(dmin,dmax,N)"
      ],
      "execution_count": null,
      "outputs": []
    },
    {
      "cell_type": "code",
      "metadata": {
        "colab": {
          "base_uri": "https://localhost:8080/"
        },
        "id": "UstoFnoKkc8L",
        "outputId": "d10ac38b-c2db-4562-f706-2b482307d708"
      },
      "source": [
        "print(b)"
      ],
      "execution_count": null,
      "outputs": [
        {
          "output_type": "stream",
          "text": [
            "[201 265 664 328 640 571 452 501 422 609 343 495 301 306 592 556 242 688\n",
            " 513 263 236 270 677 364 336 386 227 475 475 642 356 457 225 548 569 540\n",
            " 451 578 224 327 416 228 547 380 204 476 531 544 309 461 433 421 353 435\n",
            " 671 468 539 676 562 670 643 350 510 518 398 368 478 493 311 475 334 541\n",
            " 531 569 559 285 428 435 359 621 534 279 572 677 339 360 289 478 560 656\n",
            " 650 220 611 479 506 251 314 407 459 294 404 695 328 510 271 570 284 433\n",
            " 641 502 442 673 450 641 557 672 305 348 414 574 477 491 431 300 634 536\n",
            " 574 299 409 405 270 691 663 547 283 494 657 335 541 444 449 548 554 326\n",
            " 670 580 688 278 637 675 571 268 579 566 683 698 348 210 428 438 656 278\n",
            " 606 345 543 489 662 440 474 642 413 206 467 269 280 630 340 221 659 474\n",
            " 356 422 689 598 580 630 322 643 440 481 611 690 510 317 652 479 454 294\n",
            " 299 697]\n"
          ],
          "name": "stdout"
        }
      ]
    },
    {
      "cell_type": "code",
      "metadata": {
        "id": "yT6Fi61NkfPN"
      },
      "source": [
        "Lpopen=cos(f,loc,tower,user,b)"
      ],
      "execution_count": null,
      "outputs": []
    },
    {
      "cell_type": "code",
      "metadata": {
        "colab": {
          "base_uri": "https://localhost:8080/"
        },
        "id": "YpNaylhUkhcl",
        "outputId": "f3546b84-3616-4b4f-dd26-da28e0377eef"
      },
      "source": [
        "print(Lpopen)"
      ],
      "execution_count": null,
      "outputs": [
        {
          "output_type": "stream",
          "text": [
            "[166.5420053  170.43579236 183.37473858 173.44015838 182.85616821\n",
            " 181.24922479 177.95717205 179.40698285 176.9897734  182.1567878\n",
            " 174.07005039 179.23726709 172.23010347 172.46217195 181.75798342\n",
            " 180.87423625 169.15687327 183.87489423 179.74040049 170.32907792\n",
            " 168.8032253  170.69909418 183.64785838 174.90710281 173.77960221\n",
            " 175.73373256 168.25552721 178.65630898 178.65630898 182.90011907\n",
            " 174.59406243 178.11213772 168.13086942 180.67008431 181.19979934\n",
            " 180.46293002 177.92597328 181.42086079 168.06812439 173.39714693\n",
            " 176.78805773 168.31744483 180.64435601 175.51305591 166.75069412\n",
            " 178.68593305 180.22618096 180.56688796 172.59959974 178.23489438\n",
            " 177.3522463  176.95635408 174.47485519 177.41715995 183.52246078\n",
            " 178.44717754 180.43682021 183.62703615 181.02543166 183.50145222\n",
            " 182.92204318 174.35463053 179.65778303 179.8770285  176.16497759\n",
            " 175.06105229 178.74499493 179.18023772 172.69047901 178.65630898\n",
            " 173.69550502 180.48899152 180.22618096 181.19979934 180.95003681\n",
            " 171.4606979  177.18864124 177.41715995 174.71226931 182.43164994\n",
            " 180.30554025 171.16097942 181.27387263 183.64785838 173.90481404\n",
            " 174.75145219 171.65702495 178.74499493 180.97521329 183.20399422\n",
            " 183.07456387 167.81431144 182.20297223 178.77443326 179.5468672\n",
            " 169.67123523 172.82570793 176.47996248 178.17364977 171.8986473\n",
            " 176.37574817 184.01748932 173.44015838 179.65778303 170.75116906\n",
            " 181.22453374 171.41118559 177.3522463  182.87816078 179.43507107\n",
            " 177.64203055 183.56438414 177.89470526 182.87816078 180.89954845\n",
            " 183.54343805 172.41606311 174.27390688 176.72017211 181.3230393\n",
            " 178.71549494 179.12297651 177.28703212 172.18322743 182.72348681\n",
            " 180.35819915 181.3230393  172.13619488 176.54901281 176.41057201\n",
            " 170.69909418 183.93618325 183.35350838 180.64435601 171.36149864\n",
            " 179.20878127 183.22545079 173.73761638 180.48899152 177.70562541\n",
            " 177.86336768 180.67008431 180.82347498 173.35400375 183.50145222\n",
            " 181.46951796 183.87489423 171.11040041 182.78998373 183.60618309\n",
            " 181.24922479 170.59436331 181.44521038 181.12533448 183.77214952\n",
            " 184.07816237 174.27390688 167.15901945 177.18864124 177.51397296\n",
            " 183.20399422 171.11040041 182.087226   174.15194735 180.54097032\n",
            " 179.06548158 183.33224613 177.57814728 178.62662249 182.90011907\n",
            " 176.68610622 166.88812191 178.41704654 170.64682608 171.21137746\n",
            " 182.63433311 173.9463052  167.87819471 183.26826614 178.62662249\n",
            " 174.59406243 176.9897734  183.89535355 181.90003072 181.46951796\n",
            " 182.63433311 173.18009738 182.92204318 177.57814728 178.833126\n",
            " 182.20297223 183.91578319 179.65778303 172.95965098 183.11783959\n",
            " 178.77443326 178.01936304 171.8986473  172.13619488 184.05796704]\n"
          ],
          "name": "stdout"
        }
      ]
    },
    {
      "cell_type": "code",
      "metadata": {
        "id": "3CY1Glwpkkns"
      },
      "source": [
        "b_sort=b[np.argsort(b)]\r\n",
        "open_sort=Lpopen[np.argsort(b)]"
      ],
      "execution_count": null,
      "outputs": []
    },
    {
      "cell_type": "code",
      "metadata": {
        "colab": {
          "base_uri": "https://localhost:8080/",
          "height": 295
        },
        "id": "wqq42XFFknct",
        "outputId": "320707ab-bd12-4c73-8aca-8a1e27272d90"
      },
      "source": [
        "plt.figure()\r\n",
        "plt.plot(d_sort,Urban_sort, label='Urban')\r\n",
        "plt.plot(b_sort,open_sort, label='Open')\r\n",
        "plt.plot(a_sort,suburban_sort, label='Suburban')\r\n",
        "plt.legend()\r\n",
        "plt.title('FREKUENSI 1800 MHZ (GAMBAR CONTOH)')\r\n",
        "plt.xlabel('Jarak (m)')\r\n",
        "plt.ylabel('Path Loss (dB)')\r\n",
        "plt.show()"
      ],
      "execution_count": null,
      "outputs": [
        {
          "output_type": "display_data",
          "data": {
            "image/png": "[encoded data removed]",
            "text/plain": [
              "<Figure size 432x288 with 1 Axes>"
            ]
          },
          "metadata": {
            "tags": [],
            "needs_background": "light"
          }
        }
      ]
    },
    {
      "cell_type": "code",
      "metadata": {
        "id": "xtt04ybvkqsL"
      },
      "source": [
        "f=1800 #MHz\r\n",
        "loc='urban'\r\n",
        "tower=80 #m\r\n",
        "user=1.5 #m\r\n",
        "dmin=200 #m\r\n",
        "dmax=700 #m\r\n",
        "N=200 #titik\r\n",
        "x=np.random.randint(dmin,dmax,N)"
      ],
      "execution_count": null,
      "outputs": []
    },
    {
      "cell_type": "code",
      "metadata": {
        "colab": {
          "base_uri": "https://localhost:8080/"
        },
        "id": "Qqc3k1lJkst7",
        "outputId": "7986ce5a-2cf2-450c-d467-f05b33e86e87"
      },
      "source": [
        "print(x)"
      ],
      "execution_count": null,
      "outputs": [
        {
          "output_type": "stream",
          "text": [
            "[451 406 292 344 635 366 354 304 444 364 489 360 349 585 585 642 688 353\n",
            " 434 648 441 372 665 632 292 312 200 287 692 357 499 607 446 422 341 562\n",
            " 407 212 663 656 263 607 429 549 461 634 575 540 538 321 425 470 314 330\n",
            " 658 429 456 543 283 370 485 630 214 471 242 377 386 578 262 285 277 619\n",
            " 291 382 339 205 328 480 601 445 674 394 285 604 632 252 323 681 675 383\n",
            " 374 406 602 290 411 272 314 349 224 369 686 573 223 641 269 409 637 685\n",
            " 400 270 653 629 263 480 485 409 641 260 224 558 221 279 345 631 417 469\n",
            " 649 410 335 368 671 434 650 410 601 228 429 343 518 476 503 316 585 322\n",
            " 217 440 609 506 612 602 446 432 466 414 257 404 529 658 686 491 347 573\n",
            " 498 549 634 685 259 423 489 207 433 611 636 473 264 206 241 285 243 405\n",
            " 416 369 205 462 304 619 677 227 344 283 559 404 209 279 580 274 524 309\n",
            " 424 568]\n"
          ],
          "name": "stdout"
        }
      ]
    },
    {
      "cell_type": "code",
      "metadata": {
        "id": "zh2wH33SkxxS"
      },
      "source": [
        "LpUrban1=cos(f,loc,tower,user,x)"
      ],
      "execution_count": null,
      "outputs": []
    },
    {
      "cell_type": "code",
      "metadata": {
        "colab": {
          "base_uri": "https://localhost:8080/"
        },
        "id": "poKgQ2Sbk0in",
        "outputId": "e4488bef-159e-4b40-8701-33f2667c6c9e"
      },
      "source": [
        "print(LpUrban1)"
      ],
      "execution_count": null,
      "outputs": [
        {
          "output_type": "stream",
          "text": [
            "[181.09491573 179.61425242 174.97143758 177.28000084 185.91462979\n",
            " 178.15323031 177.68364557 175.53874529 180.87456785 178.07604525\n",
            " 182.23442403 177.92039464 177.48326897 184.75937306 184.75937306\n",
            " 186.06906151 187.04383667 177.64379763 180.55368296 186.20009722\n",
            " 180.77906757 178.38227987 186.56487928 185.84792294 174.97143758\n",
            " 175.90464216 169.64069205 174.72814591 187.12549625 177.80251748\n",
            " 182.51958027 185.2793939  180.93787689 180.15871585 177.15661694\n",
            " 184.19437411 179.64890493 170.46148173 186.52245082 186.37293666\n",
            " 173.49802037 185.2793939  180.39045706 183.86470814 181.40383683\n",
            " 185.89242926 184.51650088 183.63187246 183.57960436 176.30522567\n",
            " 180.25850071 181.67618932 175.99465037 176.69473171 186.41581717\n",
            " 180.39045706 181.25022312 183.70991276 174.53044108 178.30634309\n",
            " 182.11872533 185.80327556 170.59374784 181.7061282  172.32581571\n",
            " 178.57034992 178.902675   184.58980323 173.44435845 174.62964035\n",
            " 174.22858158 185.55515287 174.92311425 178.75594203 177.07375648\n",
            " 169.98851806 176.60910082 181.97275265 185.13946324 180.90625794\n",
            " 186.75424156 179.19163359 174.62964035 185.20960232 185.84792294\n",
            " 172.89618665 176.39271811 186.89978332 186.77512553 178.79276882\n",
            " 178.45780947 179.61425242 185.16288176 174.87462457 179.78666874\n",
            " 173.97199457 175.99465037 177.48326897 171.23706683 178.26822064\n",
            " 187.00282867 184.46741986 171.17404105 186.04710322 173.81576852\n",
            " 179.71795525 185.95892618 186.98227982 179.40452789 173.86803663\n",
            " 186.30837014 185.78089869 173.49802037 181.97275265 182.11872533\n",
            " 179.71795525 186.04710322 173.3364174  171.23706683 184.0937577\n",
            " 171.04713715 174.32992186 177.3208898  185.82561694 179.99082068\n",
            " 181.64618668 186.22181849 179.75235389 176.90655882 178.22999474\n",
            " 186.69140322 180.55368296 186.24350631 179.75235389 185.13946324\n",
            " 171.48638728 180.39045706 177.23899284 183.04597095 181.85487549\n",
            " 182.63204584 176.0840871  184.75937306 176.34903982 170.78984712\n",
            " 180.74708972 185.32573025 182.71580964 185.39495023 185.16288176\n",
            " 180.93787689 180.48861939 181.5557934  179.88911456 173.17293892\n",
            " 179.54469061 183.34196773 186.41581717 187.00282867 182.29191895\n",
            " 177.40231336 184.46741986 182.49132302 183.86470814 185.89242926\n",
            " 186.98227982 173.28213511 180.19205607 182.23442403 170.12527872\n",
            " 180.52118874 185.37191467 185.9367954  181.76581574 173.55147864\n",
            " 170.05706436 172.26748753 174.62964035 172.38390337 179.57951445\n",
            " 179.95700017 178.26822064 169.98851806 181.43435956 175.53874529\n",
            " 185.55515287 186.81680082 171.42446965 177.28000084 174.53044108\n",
            " 184.11897926 179.54469061 170.26072435 174.32992186 184.63846041\n",
            " 174.07519091 183.20819429 175.76854219 180.22531757 184.34396388]\n"
          ],
          "name": "stdout"
        }
      ]
    },
    {
      "cell_type": "code",
      "metadata": {
        "id": "2KwW1qCik2va"
      },
      "source": [
        "x_sort=x[np.argsort(x)]\r\n",
        "Urban_sort1=LpUrban1[np.argsort(x)]"
      ],
      "execution_count": null,
      "outputs": []
    },
    {
      "cell_type": "code",
      "metadata": {
        "id": "x_Yc8nE8k4qj"
      },
      "source": [
        "f=900 #MHz\r\n",
        "loc='urban'\r\n",
        "tower=80 #m\r\n",
        "user=1.5 #m\r\n",
        "dmin=200 #m\r\n",
        "dmax=700 #m\r\n",
        "N=200 #titik\r\n",
        "y=np.random.randint(dmin,dmax,N)"
      ],
      "execution_count": null,
      "outputs": []
    },
    {
      "cell_type": "code",
      "metadata": {
        "colab": {
          "base_uri": "https://localhost:8080/"
        },
        "id": "mVXopa0Ak67i",
        "outputId": "b230a81d-7a5a-4111-9282-2551bce4ae10"
      },
      "source": [
        "print(y)"
      ],
      "execution_count": null,
      "outputs": [
        {
          "output_type": "stream",
          "text": [
            "[509 445 592 542 433 470 299 330 475 361 641 253 420 364 460 408 682 492\n",
            " 443 225 289 398 215 496 270 490 534 214 213 248 488 216 427 635 536 351\n",
            " 481 684 589 426 481 510 323 422 421 348 626 297 473 576 525 353 530 295\n",
            " 699 599 539 302 279 642 413 411 448 238 590 574 664 286 245 516 630 593\n",
            " 452 291 288 331 301 438 442 216 229 540 273 664 381 575 405 516 618 332\n",
            " 242 580 598 624 283 624 247 517 326 237 496 408 418 509 483 664 499 457\n",
            " 608 250 563 456 202 379 230 603 609 402 579 547 355 615 699 333 636 650\n",
            " 525 601 544 279 374 613 423 479 519 569 640 420 440 494 256 275 326 459\n",
            " 517 649 591 314 416 255 382 254 656 565 612 409 314 339 662 444 361 328\n",
            " 642 595 431 557 412 689 574 386 587 278 247 387 493 673 652 214 560 344\n",
            " 507 372 398 265 358 676 263 636 277 652 674 541 668 437 393 414 522 261\n",
            " 610 640]\n"
          ],
          "name": "stdout"
        }
      ]
    },
    {
      "cell_type": "code",
      "metadata": {
        "id": "9fDIlwpFk9J0"
      },
      "source": [
        "LpUrban2=cos(f,loc,tower,user,y)"
      ],
      "execution_count": null,
      "outputs": []
    },
    {
      "cell_type": "code",
      "metadata": {
        "colab": {
          "base_uri": "https://localhost:8080/"
        },
        "id": "mFRDTt0pk_OX",
        "outputId": "4ca480b9-3bc3-4d07-c19a-8c805b13004c"
      },
      "source": [
        "print(LpUrban2)"
      ],
      "execution_count": null,
      "outputs": [
        {
          "output_type": "stream",
          "text": [
            "[173.00541711 171.11259676 175.13326469 173.89028616 170.72752757\n",
            " 171.88252815 165.51147614 166.90107053 172.03159025 168.16580765\n",
            " 176.25344205 163.15831263 170.29813655 168.28238408 171.57958663\n",
            " 169.88981122 177.12679161 172.52691748 171.04914514 161.50615069\n",
            " 165.03230622 169.54025886 160.86575689 172.6409767  164.07437545\n",
            " 172.46953965 173.68082152 160.80008667 160.73410885 162.87714086\n",
            " 172.41192714 160.93112238 170.53097223 176.12096862 173.73348041\n",
            " 167.7701008  172.20840727 177.16803977 175.06170024 170.49794469\n",
            " 172.20840727 173.03306429 166.59905694 170.36505467 170.33163535\n",
            " 167.64918815 175.91989282 165.41693728 171.97215456 174.74731623\n",
            " 173.44138962 167.85013646 173.57490946 165.32175964 177.47361005\n",
            " 175.29884789 173.81210148 165.65210531 164.53626068 176.27540033\n",
            " 170.06138749 169.99300756 171.20724149 162.29737848 175.08559548\n",
            " 174.69832057 176.75001985 164.88531806 162.70570381 173.19781749\n",
            " 176.00961438 175.15703893 171.33245332 165.12945307 164.98348039\n",
            " 166.94369156 165.60538474 170.88925423 171.01731182 160.93112238\n",
            " 161.75437275 173.83821129 164.23002607 176.75001985 168.92535754\n",
            " 174.7228397  169.78585328 173.19781749 175.73871685 166.98618401\n",
            " 162.53215454 174.84479923 175.27531198 175.87481682 164.73677991\n",
            " 175.87481682 162.8202267  173.22508998 166.72928502 162.23806792\n",
            " 172.6409767  169.88981122 170.23089901 173.00541711 172.26685647\n",
            " 176.75001985 172.7259191  171.48741899 175.50891995 162.99028394\n",
            " 174.42575514 171.45656194 159.9871936  168.85121927 161.81575079\n",
            " 175.39260023 175.53206907 169.68112241 174.82049165 174.01963728\n",
            " 167.92971993 175.67017055 177.47361005 167.02854867 176.14313422\n",
            " 176.44984513 173.44138962 175.34580206 173.94216923 164.53626068\n",
            " 168.6641483  175.624287   170.39839489 172.14971453 173.27947706\n",
            " 174.57508061 176.23144948 170.29813655 170.95342854 172.58406253\n",
            " 163.32436057 164.33284578 166.72928502 171.54893104 173.22508998\n",
            " 176.42815731 175.10945025 166.2009892  170.16333899 163.26922845\n",
            " 168.96228086 163.21387971 176.57927549 174.47570639 175.60128905\n",
            " 169.92429407 166.2009892  167.28009531 176.7075274  171.08090668\n",
            " 168.16580765 166.81543965 176.27540033 175.20446739 170.66231339\n",
            " 174.27482972 170.02723902 177.27063481 174.69832057 169.10901382\n",
            " 175.01378782 164.48568168 162.8202267  169.14545948 172.55551898\n",
            " 176.9396654  176.49312086 160.80008667 174.35049456 167.48633966\n",
            " 172.94995941 168.58861869 169.54025886 163.81107362 168.0482584\n",
            " 177.00231742 163.70435919 176.14313422 164.43492041 176.49312086\n",
            " 176.96058038 173.86427279 176.83462213 170.8570571  169.3621751\n",
            " 170.09545338 173.36066598 163.59683014 175.55518021 176.23144948]\n"
          ],
          "name": "stdout"
        }
      ]
    },
    {
      "cell_type": "code",
      "metadata": {
        "id": "geg7EuRNlBbd"
      },
      "source": [
        "y_sort=y[np.argsort(y)]\r\n",
        "Urban_sort2=LpUrban2[np.argsort(y)]"
      ],
      "execution_count": null,
      "outputs": []
    },
    {
      "cell_type": "code",
      "metadata": {
        "id": "P4OLV1TQlEK8"
      },
      "source": [
        "f=700 #MHz\r\n",
        "loc='urban'\r\n",
        "tower=80 #m\r\n",
        "user=1.5 #m\r\n",
        "dmin=200 #m\r\n",
        "dmax=700 #m\r\n",
        "N=200 #titik\r\n",
        "z=np.random.randint(dmin,dmax,N)"
      ],
      "execution_count": null,
      "outputs": []
    },
    {
      "cell_type": "code",
      "metadata": {
        "colab": {
          "base_uri": "https://localhost:8080/"
        },
        "id": "6B4NJxLflGSP",
        "outputId": "31c8aac2-61b3-442d-f0b9-74a97acc5f7d"
      },
      "source": [
        "print(z)"
      ],
      "execution_count": null,
      "outputs": [
        {
          "output_type": "stream",
          "text": [
            "[434 639 541 343 661 242 562 559 348 223 294 600 640 229 370 508 305 672\n",
            " 657 588 224 541 416 297 559 308 358 211 298 631 545 271 511 483 531 593\n",
            " 410 563 673 494 652 242 247 413 605 219 309 289 255 371 559 230 230 510\n",
            " 651 592 658 506 628 649 205 223 270 512 319 334 546 451 208 553 361 544\n",
            " 423 521 246 650 353 651 691 567 491 221 348 572 694 405 415 323 623 373\n",
            " 303 673 223 676 290 206 562 631 200 378 305 474 656 345 691 434 225 636\n",
            " 418 327 582 208 678 294 687 536 698 211 365 288 692 476 588 269 336 586\n",
            " 205 676 638 608 383 671 407 232 672 379 507 570 438 479 442 412 631 520\n",
            " 256 616 578 670 428 579 658 484 302 605 337 304 501 451 232 455 691 331\n",
            " 284 611 694 354 269 448 263 439 327 319 281 654 237 649 620 246 272 277\n",
            " 635 527 455 462 364 527 257 207 655 204 407 399 335 472 240 601 352 683\n",
            " 565 487]\n"
          ],
          "name": "stdout"
        }
      ]
    },
    {
      "cell_type": "code",
      "metadata": {
        "id": "TYWZEgpolINS"
      },
      "source": [
        "LpUrban3=cos(f,loc,tower,user,z)"
      ],
      "execution_count": null,
      "outputs": []
    },
    {
      "cell_type": "code",
      "metadata": {
        "id": "e0GEw5IylKFz",
        "colab": {
          "base_uri": "https://localhost:8080/"
        },
        "outputId": "f6aca733-c276-4285-d019-c2ce1e13ebd3"
      },
      "source": [
        "print(LpUrban3)"
      ],
      "execution_count": null,
      "outputs": [
        {
          "output_type": "stream",
          "text": [
            "[167.91462547 173.3640262  171.01887647 164.59993534 173.84083669\n",
            " 159.68675822 171.55531661 171.47992176 164.80379183 158.53498356\n",
            " 162.42853225 172.47694822 173.38605316 158.90897644 165.6672856\n",
            " 170.13231923 162.94594806 174.073323   173.75533574 172.19236809\n",
            " 158.59800934 171.01887647 167.31794267 162.57154096 171.47992176\n",
            " 163.08382424 165.20286208 157.75582252 162.61888971 173.18655944\n",
            " 171.12264296 161.28105401 170.21526101 169.42146015 170.75606591\n",
            " 172.31164261 167.1132964  171.58035882 174.09426909 169.73866622\n",
            " 173.64772454 159.68675822 159.97483038 167.21599117 172.59384713\n",
            " 158.28002207 163.12948469 162.1869099  160.42383214 165.70530516\n",
            " 171.47992176 158.97035447 158.97035447 170.18766798 173.6261033\n",
            " 172.28786837 173.77675968 170.07675215 173.11942872 173.58276099\n",
            " 157.34946056 158.53498356 161.22897913 170.24280009 163.57812891\n",
            " 164.22538997 171.14846559 168.45585823 157.55410684 171.32791053\n",
            " 165.32041133 171.09677291 167.55299858 170.48825865 159.91768532\n",
            " 173.60444882 165.00474014 173.6261033  174.4660682  171.68008481\n",
            " 169.65286146 158.40807966 164.80379183 171.80375758 174.52709171\n",
            " 166.94045696 167.28404076 163.75366062 173.0068283  165.7810378\n",
            " 162.85327511 174.09426909 158.53498356 174.1569211  162.23556707\n",
            " 157.41800686 171.55531661 173.18655944 157.00163455 165.96860698\n",
            " 162.94594806 169.15650744 173.73387917 164.6818323  174.4660682\n",
            " 167.91462547 158.66075437 173.2977379  167.3855027  163.92703188\n",
            " 172.04789259 157.55410684 174.19853483 162.42853225 174.3842901\n",
            " 170.8880841  174.60804732 157.75582252 165.47563315 162.13808407\n",
            " 174.48643876 169.215818   172.19236809 161.17671103 164.30948716\n",
            " 172.14437405 157.34946056 174.1569211  173.34196474 172.66352363\n",
            " 166.15371132 174.05234573 167.00984743 159.092314   174.073323\n",
            " 166.00582296 170.10456309 171.75441869 168.04385791 169.30431821\n",
            " 168.1719155  167.1818427  173.18655944 170.46119575 160.47896425\n",
            " 172.84766008 171.95074574 174.03133717 167.71852619 171.97509533\n",
            " 173.77675968 169.45059406 162.80670899 172.59384713 164.35134823\n",
            " 162.89968779 169.9368678  168.45585823 159.092314   168.58024083\n",
            " 174.4660682  164.09829524 161.94107054 172.73285718 174.52709171\n",
            " 165.04458808 161.17671103 168.36184517 160.85896287 168.07598161\n",
            " 163.92703188 163.57812891 161.79148078 173.69086772 159.3926716\n",
            " 173.58276099 172.93883345 159.91768532 161.33293708 161.58952409\n",
            " 173.2755723  170.64955321 168.58024083 168.79530207 165.43698776\n",
            " 170.64955321 160.53388143 157.48622122 173.71238986 157.28057907\n",
            " 167.00984743 166.73021071 164.26750133 169.09694609 159.56985931\n",
            " 172.50040574 164.96477916 174.30203447 171.63031007 169.53763597]\n"
          ],
          "name": "stdout"
        }
      ]
    },
    {
      "cell_type": "code",
      "metadata": {
        "id": "QiU7kyFUlMGG"
      },
      "source": [
        "z_sort=z[np.argsort(z)]\r\n",
        "Urban_sort3=LpUrban3[np.argsort(z)]"
      ],
      "execution_count": null,
      "outputs": []
    },
    {
      "cell_type": "code",
      "metadata": {
        "id": "jGS5b90tlORz",
        "colab": {
          "base_uri": "https://localhost:8080/",
          "height": 295
        },
        "outputId": "631845a5-bd28-4137-b34f-2fe3b9781173"
      },
      "source": [
        "plt.figure()\r\n",
        "plt.plot(x_sort,Urban_sort1, label='700 Mhz')\r\n",
        "plt.plot(y_sort,Urban_sort2, label='900 Mhz')\r\n",
        "plt.plot(z_sort,Urban_sort3, label='1800 Mhz')\r\n",
        "plt.legend()\r\n",
        "plt.title('Model Urban (Contoh Gambar)')\r\n",
        "plt.xlabel('Jarak (m)')\r\n",
        "plt.ylabel('Path Loss (dB)')\r\n",
        "plt.show()"
      ],
      "execution_count": null,
      "outputs": [
        {
          "output_type": "display_data",
          "data": {
            "image/png": "[encoded data removed]",
            "text/plain": [
              "<Figure size 432x288 with 1 Axes>"
            ]
          },
          "metadata": {
            "tags": [],
            "needs_background": "light"
          }
        }
      ]
    }
  ]
}